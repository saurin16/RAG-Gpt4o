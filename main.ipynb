{
 "cells": [
  {
   "cell_type": "code",
   "execution_count": 48,
   "metadata": {},
   "outputs": [],
   "source": [
    "# RAG with gpt4-o\n",
    "    "
   ]
  },
  {
   "cell_type": "code",
   "execution_count": 49,
   "metadata": {},
   "outputs": [],
   "source": [
    "from dotenv import load_dotenv\n",
    "\n",
    "load_dotenv()\n",
    "import os\n",
    "os.environ['OPENAI_API_KEY']=os.getenv(\"OPENAI_API_KEY\")"
   ]
  },
  {
   "cell_type": "markdown",
   "metadata": {},
   "source": [
    "# Get a Data Loader"
   ]
  },
  {
   "cell_type": "code",
   "execution_count": 50,
   "metadata": {},
   "outputs": [],
   "source": [
    "from langchain_community.document_loaders import WebBaseLoader"
   ]
  },
  {
   "cell_type": "code",
   "execution_count": 51,
   "metadata": {},
   "outputs": [
    {
     "data": {
      "text/plain": [
       "[Document(page_content='\\n\\n\\n\\n\\n\\n\\n\\n\\n\\n\\nHow Nvidia Makes Money\\n\\n\\n\\n\\n\\n\\n\\n\\n\\n\\n\\n\\n\\n\\n\\n\\n\\n\\n\\n\\n\\n\\n\\n\\n\\n\\n\\n\\n\\n\\n\\n\\n\\n\\n\\n\\n\\n\\n\\n\\n\\n\\n\\n\\n\\n\\n\\n\\n\\n\\n \\n\\n \\n\\n \\n\\n \\n\\n \\n\\n \\n\\n \\n\\n \\n\\n \\n\\n \\n\\n \\n\\n \\n\\n \\n\\n \\n\\n \\n\\n \\n\\n \\n\\n \\n\\n \\n\\n \\n\\n \\n\\n \\n\\n \\n\\n \\n\\n \\n\\n \\n\\n \\n\\n \\n\\n \\n\\n \\n\\n \\n\\n \\n\\n \\n\\n \\n\\n \\n\\n\\n\\n\\n\\n\\n\\n\\nBy clicking “Accept All Cookies”, you agree to the storing of cookies on your device to enhance site navigation, analyze site usage, and assist in our marketing efforts. Cookies Settings Accept All Cookies\\n\\n \\n\\n\\n\\n\\n\\n\\n\\n\\n\\n\\n\\n\\n\\n\\n\\n \\n\\n\\n\\n\\n Investing\\n\\n\\n\\n Stocks\\n \\n\\n Cryptocurrency\\n \\n\\n Bonds\\n \\n\\n ETFs\\n \\n\\n Options and Derivatives\\n \\n\\n Commodities\\n \\n\\n Trading\\n \\n\\n Automated Investing\\n \\n\\n Brokers\\n \\n\\n Fundamental Analysis\\n \\n\\n Markets\\n \\n\\n View All\\n \\n\\n\\n\\n Simulator\\n\\n\\n\\n Login / Portfolio\\n \\n\\n Trade\\n \\n\\n Research\\n \\n\\n My Games\\n \\n\\n Leaderboard\\n \\n\\n\\n\\n Banking\\n\\n\\n\\n Savings Accounts\\n \\n\\n Certificates of Deposit (CDs)\\n \\n\\n Money Market Accounts\\n \\n\\n Checking Accounts\\n \\n\\n View All\\n \\n\\n\\n\\n Personal Finance\\n\\n\\n\\n Budgeting and Saving\\n \\n\\n Personal Loans\\n \\n\\n Insurance\\n \\n\\n Mortgages\\n \\n\\n Credit and Debt\\n \\n\\n Student Loans\\n \\n\\n Taxes\\n \\n\\n Credit Cards\\n \\n\\n Financial Literacy\\n \\n\\n Retirement\\n \\n\\n View All\\n \\n\\n\\n\\n News\\n\\n\\n\\n Markets\\n \\n\\n Companies\\n \\n\\n Earnings\\n \\n\\n CD Rates\\n \\n\\n Mortgage Rates\\n \\n\\n Economy\\n \\n\\n Government\\n \\n\\n Crypto\\n \\n\\n ETFs\\n \\n\\n Personal Finance\\n \\n\\n View All\\n \\n\\n\\n\\n Reviews\\n\\n\\n\\n Best Online Brokers\\n \\n\\n Best Savings Rates\\n \\n\\n Best CD Rates\\n \\n\\n Best Life Insurance\\n \\n\\n Best Personal Loans\\n \\n\\n Best Mortgage Rates\\n \\n\\n Best Money Market Accounts\\n \\n\\n Best Auto Loan Rates\\n \\n\\n Best Credit Repair Companies\\n \\n\\n Best Credit Cards\\n \\n\\n View All\\n \\n\\n\\n\\n Academy\\n\\n\\n\\n Investing for Beginners\\n \\n\\n Trading for Beginners\\n \\n\\n Become a Day Trader\\n \\n\\n Technical Analysis\\n \\n\\n All Investing Courses\\n \\n\\n All Trading Courses\\n \\n\\n View All\\n \\n\\n\\n\\n\\n\\nTrade\\n\\n\\n \\n\\n\\n\\n\\n\\n\\nSearch\\n\\n\\nSearch\\n\\n\\n\\n\\n\\n\\n\\n\\n\\n\\n\\n \\n\\n\\n\\nPlease fill out this field.\\n\\n\\n\\n\\n\\n\\n\\n\\n\\n\\n \\n\\n\\n\\n\\n\\nSearch\\n\\n\\nSearch\\n\\n\\n\\n\\n\\n\\n \\n\\n\\n\\nPlease fill out this field.\\n\\n\\n\\n\\n\\n\\n\\n\\n\\n\\n\\nInvesting\\n\\n\\n\\n\\n\\n\\n\\n\\n\\n\\nInvesting\\n\\n\\n\\n\\n Stocks\\n \\n\\n Cryptocurrency\\n \\n\\n Bonds\\n \\n\\n ETFs\\n \\n\\n Options and Derivatives\\n \\n\\n Commodities\\n \\n\\n Trading\\n \\n\\n Automated Investing\\n \\n\\n Brokers\\n \\n\\n Fundamental Analysis\\n \\n\\n Markets\\n \\n\\n View All\\n \\n\\n\\n\\n\\n\\nSimulator\\n\\n\\n\\n\\n\\n\\n\\n\\n\\n\\nSimulator\\n\\n\\n\\n\\n Login / Portfolio\\n \\n\\n Trade\\n \\n\\n Research\\n \\n\\n My Games\\n \\n\\n Leaderboard\\n \\n\\n\\n\\n\\n\\nBanking\\n\\n\\n\\n\\n\\n\\n\\n\\n\\n\\nBanking\\n\\n\\n\\n\\n Savings Accounts\\n \\n\\n Certificates of Deposit (CDs)\\n \\n\\n Money Market Accounts\\n \\n\\n Checking Accounts\\n \\n\\n View All\\n \\n\\n\\n\\n\\n\\nPersonal Finance\\n\\n\\n\\n\\n\\n\\n\\n\\n\\n\\nPersonal Finance\\n\\n\\n\\n\\n Budgeting and Saving\\n \\n\\n Personal Loans\\n \\n\\n Insurance\\n \\n\\n Mortgages\\n \\n\\n Credit and Debt\\n \\n\\n Student Loans\\n \\n\\n Taxes\\n \\n\\n Credit Cards\\n \\n\\n Financial Literacy\\n \\n\\n Retirement\\n \\n\\n View All\\n \\n\\n\\n\\n\\n\\nNews\\n\\n\\n\\n\\n\\n\\n\\n\\n\\n\\nNews\\n\\n\\n\\n\\n Markets\\n \\n\\n Companies\\n \\n\\n Earnings\\n \\n\\n CD Rates\\n \\n\\n Mortgage Rates\\n \\n\\n Economy\\n \\n\\n Government\\n \\n\\n Crypto\\n \\n\\n ETFs\\n \\n\\n Personal Finance\\n \\n\\n View All\\n \\n\\n\\n\\n\\n\\nReviews\\n\\n\\n\\n\\n\\n\\n\\n\\n\\n\\nReviews\\n\\n\\n\\n\\n Best Online Brokers\\n \\n\\n Best Savings Rates\\n \\n\\n Best CD Rates\\n \\n\\n Best Life Insurance\\n \\n\\n Best Personal Loans\\n \\n\\n Best Mortgage Rates\\n \\n\\n Best Money Market Accounts\\n \\n\\n Best Auto Loan Rates\\n \\n\\n Best Credit Repair Companies\\n \\n\\n Best Credit Cards\\n \\n\\n View All\\n \\n\\n\\n\\n\\n\\nAcademy\\n\\n\\n\\n\\n\\n\\n\\n\\n\\n\\nAcademy\\n\\n\\n\\n\\n Investing for Beginners\\n \\n\\n Trading for Beginners\\n \\n\\n Become a Day Trader\\n \\n\\n Technical Analysis\\n \\n\\n All Investing Courses\\n \\n\\n All Trading Courses\\n \\n\\n View All\\n \\n\\n\\n\\n\\n\\nEconomy\\n\\n\\n\\n\\n\\n\\n\\n\\n\\n\\nEconomy\\n\\n\\n\\n\\n Government and Policy\\n \\n\\n Monetary Policy\\n \\n\\n Fiscal Policy\\n \\n\\n Economics\\n \\n\\n View All\\n \\n\\n\\n\\n\\n Financial Terms\\n \\n\\n Newsletter\\n \\n\\n About Us\\n \\n\\n\\n\\n\\n\\n\\nFollow Us\\n\\n\\n \\n\\n\\n \\n\\n \\n\\n\\n \\n\\n \\n\\n\\n \\n\\n \\n\\n\\n \\n\\n \\n\\n\\n \\n\\n \\n\\n\\n \\n\\n\\n \\n\\n\\n\\n\\n\\nTable of Contents\\nExpand\\nTable of Contents\\n\\n\\n\\nNvidia\\'s Industry\\nFinancials\\nHistory and Leadership\\nRecent Developments\\nFAQs\\nThe Bottom Line\\nCompany Profiles\\nTech Companies\\nHow Nvidia Makes Money\\nNvidia\\'s Compute and Networking segment supercharges revenue growth\\n\\n\\nBy\\n Nathan Reiff\\n \\n\\n\\n\\n\\n\\n\\n \\nFull Bio \\nNathan Reiff has been writing expert articles and news about financial topics such as investing and trading, cryptocurrency, ETFs, and alternative investments on Investopedia since 2016.\\n\\n\\n\\nLearn about our \\neditorial policies\\n\\n\\n\\nUpdated March 13, 2024\\n\\n\\n\\nReviewed by\\n Thomas J. Catalano\\n \\n\\n\\n\\n\\n\\n\\n \\n\\n\\n\\nReviewed by\\nThomas J. Catalano\\n\\nFull Bio\\n\\n\\n\\n \\n\\n\\n \\n\\n \\nThomas J Catalano is a CFP and Registered Investment Adviser with the state of South Carolina, where he launched his own financial advisory firm in 2018.\\xa0Thomas\\' experience gives him expertise in a variety of areas including investments, retirement, insurance, and financial planning.\\n\\n\\n\\nLearn about our \\nFinancial Review Board\\n\\n\\n\\n\\n \\n\\n\\n\\n\\n\\n\\n\\n\\n\\n\\n\\n\\n\\n\\n\\n\\n\\n\\n\\n\\n\\n\\n\\n\\n\\nTrending Videos\\n\\n\\n\\nClose this video player\\n\\n Nvidia Corporation is a multinational technology company that introduced and innovated the graphics processing unit (GPU). The source of its greatest amount of revenue is its Compute and Networking business segment, which includes artificial intelligence (AI).\\n\\n\\n Nvidia has continued to deliver leading edge graphics developments through its groundbreaking GPU efforts.\\n\\n\\n It has become a full-stack (from front-end to back-end) computing infrastructure company that is reshaping how complex computing for diverse purposes gets done.\\n\\n\\n Nvidia designs and manufactures GPUs for gaming, cryptocurrency mining, and professional applications, as well as chip systems for use in vehicles, robotics, and other tools. AI has become a major focus.\\n\\n\\nKey Takeaways\\n\\nCompute and Networking, which includes artificial intelligence (AI), is Nvidia\\'s biggest revenue generator.\\nThe graphics business segment is Nvidia\\'s second largest revenue generator.\\nNvidia (NVDA) introduced graphics processing units, known as GPUs, a key component of PC architecture and large-scale applications.\\nIt designs and sells GPUs for gaming, cryptocurrency mining, and professional applications.\\nIt also sells chip systems for use in vehicles, robotics, and more.\\n\\n\\n  Nvidia\\'s Industry  \\n Nvidia is a leading company in the semiconductor industry, within the information technology sector.\\n\\n\\n Its goal is to offer technology solutions for increasingly complex computational challenges in the markets it serves. A major focus for years has been AI. This has intensified as AI development has powered forward and emerged in the public eye.\\n\\n\\n According to its 10-K filing, Nvidia believes that the market for its products faces intense technological change and changing industry standards.\\n\\n\\n It is also an extremely competitive market, where performance, product offerings, and access to customers, partners, and distribution channels are critical factors. Other key aspects it must dominate are software support, the ability to conform to industry standard APIs, manufacturing strengths, processor pricing, and total costs.\\n\\n\\n  Competitors  \\n It has a variety of competitors in different areas of the industry. Some of them are hardware and software suppliers and licensors such as Intel Corp. (INTC), Advanced Micro Devices (AMD), and Huwei.\\n\\n\\n Cloud services companies designing AI computing functionality such as Alibaba Group (BABA), Alphabet Inc. (GOOG), Amazon Inc. (AMZN), and Microsoft (MSFT) are also major competitors.\\n\\n\\n  Nvidia\\'s Financials  \\n As of March 12, 2024, Nvidia\\'s market capitalization was $2.26 trillion.\\n\\n\\n In February 2024, Nvidia announced its financial results for Q4 of the 2024 fiscal year (FY), the three-month period ended Jan. 28, 2024.\\n\\n\\n  Revenue  \\n The company reported record revenue of $22.1 billion, which was up 22% from the previous quarter and 265% year over year (YOY). For the entire fiscal year, revenue was $60.9 billion, up 126% from the previous fiscal year result.\\n\\n\\n  Net Income  \\n It had net income of $12.28 billion, a growth of 33% over the previous quarter and 769% over the previous year\\'s fourth quarter.\\n\\n\\n  Operating Income  \\n At $13.61 billion, Nvidia\\'s operating income, which is a profitability metric for its individual business segments, grew 983% YOY from $1.25 billion.\\n\\n\\n  Revenue From Primary Markets  \\n The chip company serves five primary markets—data center, gaming, professional visualization, automotive, original equipment manufacturer (OEM) and other.\\n\\n\\n Its most noteworthy business results were derived from the first four markets:\\n\\n\\n Data center revenue was a record $18.4 billion in the fourth quarter, up 27% from Q3 2024 and 409% YOY. The total in FY 2024 was $47.5 billion, up 217%.Gaming revenue was $2.9 billion in the fourth quarter, no change from the previous quarter and up 56% YOY. The total in FY 2024 was $10.4 billion, up 15% YOY.Professional visualization revenue was $463 million in the fourth quarter, up 11% from Q3 and 105% YOY. For the year, revenue rose to $1.6 billion, an increase of 1% YOY.Automotive revenue was $281 million, an increase of 8% from Q3 and down 4% YOY. For the year, revenue rose to $1.1 billion, an increase of 21%.\\n\\n\\n Company Chief Executive Officer (CEO) Jensen Huang reported that \"Accelerated computing and generative AI have hit the tipping point. Demand is surging worldwide across companies, industries and nations that demand for its AI solutions.\"\\n\\n\\n\\n\\n  Revenue From Business Segments  \\n Nvidia reports business results for two business segments: Compute and Networking and Graphics.\\n\\n\\n Compute and Networking\\n\\n\\n According to Nvidia\\'s Form 10-K, the Compute and Networking segment is made up of:\\n\\n\\n Data Center accelerated computing platforms and end-to-end networking platforms including Quantum for InfiniBand and Spectrum for EthernetNVIDIA DRIVE automated-driving platform and automotive development agreementsJetson robotics and other embedded platformsNVIDIA AI Enterprise and other softwareDGX Cloud software and services\\n\\n\\n The Compute and Networking segment delivered revenue of $47.4 billion in FY 2024, up 215% from FY 2023. The segment accounted for almost 78% of Nvidia\\'s total revenue.\\n\\n\\n Operating income, at $32.01 billion, grew 530% YOY.\\n\\n\\n Graphics\\n\\n\\n Nvidia\\'s graphics segment is comprised of:\\n\\n\\n The GeForce GPUs for gaming and PCs, the GeForce NOW game-streaming service and related infrastructure, and solutions for gaming platformsThe Quadro/NVIDIA RTX GPUs for enterprise graphics designVirtual GPU (vGPU) for cloud-based visual and virtual computingautomotive platforms for infotainment systemsOmniverse Enterprise software for the construction and operation of metaverse and 3D internet apps\\n\\n\\n The Graphics segment delivered revenue of $13.51 billion in FY 2024, up 14% from FY 2023. The segment accounted for slightly over 22% of Nvidia\\'s total revenue.\\n\\n\\n Operating income, at $5.84 billion, grew 28% YOY.\\n\\n\\n  Equity Holdings  \\n Nvidia\\'s Form 13F includes the following equity holdings and associated values, as of Dec. 31, 2023:\\n\\n\\n \\n\\n\\n\\n\\n\\nCompany\\nValue\\n\\n\\n\\n\\nARM HOLDINGS PLC\\n$147,343,114\\n\\n\\nNANO X IMAGING LTD\\n$379,856\\n\\n\\nRECURSION PHARMACEUTICALS INC\\n$75,984,739\\n\\n\\nSOUNDHOUND AI INC\\n$3,669,472\\n\\n\\nTUSIMPLE HLDGS INC\\n$3,041,904\\n\\n\\n\\n\\n\\nHistoric\\nOn Thursday, Feb. 22, 2024, Nvidia\\'s market capitalization jumped by $272 billion, the largest change ever seen in such value in a single day.\\n  History and Leadership  \\n Nvidia Corporation was founded in 1993 by Jensen Huang, Chris Malachowsky, and Curtis Priem. It is headquartered in Santa Clara, California.\\n\\n\\n Huang has led Nvidia as President, Chief Executive, and member of the Board of Directors. Before starting the company with Malachowsky and Priem, Huang worked at LSI Logic and Advanced Micro Devices.\\n\\n\\n Co-founder Malachowsky is a Nvidia senior technology executive who helped spearhead Nvidia\\'s growth from startup to accelerated computing standout. Prior to Nvidia, he worked at HP and Sun Microsystems. He is an expert in integrated-circuit design and methodology.\\n\\n\\n Co-founder Priem was Nvidia\\'s Chief Technology Officer for 10 years. He left Nvidia in the early 2000s.\\n\\n\\n Nvidia has more than 27,000 employees worldwide and more than 7,500 patents in force and pending.\\n\\n\\n  Recent Developments  \\n • In early March 2024, Nvidia and HP Inc. announced their intention to integrate\\xa0NVIDIA CUDA-X™ data processing libraries with HP AI workstation solutions. This will drive generative AI development through data preparation and processing work.\\n\\n\\n • In November of 2023, Nvidia connected the world’s leading AI computing platform with its new NVIDIA HGX™ H200. The platform features the NVIDIA H200 Tensor Core GPU with advanced memory. It is designed to manage enormous amounts of data for generative AI as well as complex and demanding computing workloads.\\n\\n\\n • In August 2023, Nvidia provided a major upgrade for its Omniverse platform. Omniverse is used with 3D tools and applications. The upgrade \"accelerates the creation of virtual worlds and advanced workflows for industrial digitalization.\"\\n\\n\\n • ChatGPT, powered by the NVIDIA DGX™ AI supercomputer, launched in late November 2022. In two months, users numbered 100 million. It instantly became the fastest-growing app in history.\\n\\n\\n What Happened With Nvidia\\'s Intended Purchase of Arm?\\nIn February 2022, Nvidia announced that it was terminating its agreement to purchase U.K.-based semiconductor design firm Arm from SoftBank Group Corp. due to significant regulatory challenges.\\n\\n\\n Is Nvidia Still a Graphics Company?\\nDue to the rise of AI and the enormous success of ChatGPT, powered by Nvidia\\'s AI supercomputer, CEO Jensen Huang, shifted Nvidia\\'s major focus from graphics to AI in late 2023.\\n\\n\\n How Much Does a Share of Nvidia Stock Go For?\\nOn March 13, 2024, Nvidia shares were trading in the neighborhood of $890 per share.\\n\\n\\n  The Bottom Line  \\n Nvidia Corporation is a global technology company that was founded in 1993. It introduced the graphics processing unit (GPU) for accelerated computing tasks such as graphics rendering, gaming, and video editing.\\n\\n\\n In late 2023, its primary focus moved from graphics to artificial intelligence due to the massive success of ChatGPT, which is powered by Nvidia\\'s GPUs, and the resulting demand for its products.\\n\\nDo you have a news tip for Investopedia reporters? Please email us at\\ntips@investopedia.com\\n\\n\\n\\n\\nArticle Sources\\n\\n\\n\\nInvestopedia requires writers to use primary sources to support their work. These include white papers, government data, original reporting, and interviews with industry experts. We also reference original research from other reputable publishers where appropriate. You can learn more about the standards we follow in producing accurate, unbiased content in our\\neditorial policy.\\n \\nNvidia Corporation. \"Form 10-K for the fiscal year ended January 28, 2024,\" Page 39.\\nNvidia Corporation. \"Form 10-K for the fiscal year ended January 28, 2024,\" Page 9.\\nCompaniesmarketcap.com. \"Market capitalization of Nvidia (NVDA).\"\\nNvidia Corp. \"NVIDIA Announces Financial Results for Fourth Quarter and Fiscal 2024.\"\\nNvidia Corporation. \"Form 10-K for the fiscal year ended January 28, 2024,\" Page 5.\\nU.S. Securities and Exchange Commission. \"Form 13F–Nvidia Corp.\"\\nNvidia. \"Newsroom: Founders.\"\\nForbes. \"This Nvidia Cofounder Could Have Been Worth $70 Billion. Instead He Lives Off The Grid.\"\\nNvidia. \"Nvidia in Brief.\"\\nNvidia. \"Newsroom: NVIDIA and HP Supercharge Data Science and Generative AI on Workstations.\"\\nNvidia. \"Newsroom: NVIDIA Supercharges Hopper, the World’s Leading AI Computing Platform.\"\\nNvidia. \"Newsroom: NVIDIA Releases Major Omniverse Upgrade With Generative AI and OpenUSD.\"\\nNvidia. \"Nvidia in Brief,\" Page 2.\\nNvidia. \"Newsroom: NVIDIA and SoftBank Group Announce Termination of NVIDIA’s Acquisition of Arm Limited.\"\\nDigitalTrends. \"Nvidia is ‘no longer a graphics company.\\'\"\\n\\n\\n\\n\\n\\n\\n\\n\\n\\n\\n\\n\\n\\n\\n\\n\\n\\n\\n\\n\\n\\n\\n\\n\\n\\n\\n\\n\\n\\n\\n\\n\\n \\nRelated Articles\\n\\n\\n\\n\\n\\n\\n \\n\\n\\n4 Companies Owned by Nvidia\\n\\n\\n\\n\\n\\n\\n\\n\\n \\n\\n\\nInvesting in Nvidia Stock (NVDA)\\n\\n\\n\\n\\n\\n\\n\\n\\n \\n\\n\\nHow AMD Makes Money\\n\\n\\n\\n\\n\\n\\n\\n\\n \\n\\n\\nNvidia Q3 FY2022 Earnings Report Recap\\n\\n\\n\\n\\n\\n\\n\\n\\n \\n\\n\\nWhat You Need To Know Ahead of AMD\\'s Earnings Report \\n\\n\\n\\n\\n\\n\\n\\n\\n \\n\\n\\n6 Takeaways From Nvidia CEO Jensen Huang\\'s GPU Tech Conference Keynote\\n\\n\\n\\n\\n\\n\\n\\n\\n\\n\\n\\n\\n\\n\\n\\nPartner Links\\n\\n\\n\\n\\n\\n\\n\\n\\n\\n\\n\\n\\n\\n\\n\\n\\nRelated Terms\\nWhat Is a Graphics Processing Unit (GPU)? Definition and Examples\\nA Graphics Processing Unit is a chip or electronic circuit capable of rendering graphics for display on an electronic device.\\nmore\\nWhat Is Artificial Intelligence (AI)?\\nArtificial intelligence technology allows computers and machines to simulate human intelligence and problem-solving capabilities.\\nmore\\nQuantum Computing: Definition, How It\\'s Used, and Example\\nA quantum computer, unlike a classical computer, uses quantum bits or qubits. Learn about quantum computers and which companies are building them.\\nmore\\nWhat Is Bitcoin Mining?\\nBreaking down everything you need to know about Bitcoin mining, from blockchain and block rewards to proof of work and mining pools.\\nmore\\nWhat Is Business Intelligence (BI)? Types, Benefits, and Examples\\nBusiness intelligence (BI) refers to the procedural and technical infrastructure that collects, stores, and analyzes data produced by a company.\\nmore\\nFabless Company: What It Is, How It Works, Example\\n\"Fabless company” refers to a company that designs and markets hardware while outsourcing the manufacturing of that hardware to a third-party partner.\\nmore\\n\\n\\n\\n\\n\\n\\n \\n\\n\\n \\n\\n \\n\\n\\n \\n\\n \\n\\n\\n \\n\\n \\n\\n\\n \\n\\n \\n\\n\\n \\n\\n\\n\\n About Us\\nTerms of Service\\nDictionary\\nEditorial Policy\\nAdvertise\\nNews\\nPrivacy Policy\\nContact Us\\nCareers\\nYour Privacy Choices \\n\\n\\n\\n\\n#\\nA\\nB\\nC\\nD\\nE\\nF\\nG\\nH\\nI\\nJ\\nK\\nL\\nM\\nN\\nO\\nP\\nQ\\nR\\nS\\nT\\nU\\nV\\nW\\nX\\nY\\nZ\\n \\n\\n\\n\\n\\n\\nInvestopedia is part of the Dotdash Meredith\\xa0publishing\\xa0family.\\n\\n\\n\\n\\n\\n\\n\\n\\n\\n\\n\\n\\n\\n', metadata={'source': 'https://www.investopedia.com/how-nvidia-makes-money-4799532#:~:text=Nvidia%20(NVDA)%20introduced%20graphics%20processing,vehicles%2C%20robotics%2C%20and%20more.', 'title': 'How Nvidia Makes Money', 'description': \"Nvidia's Compute and Networking segment has overtaken its Graphics segment as the top producer of revenue and profits. In particular, AI is fueling enormous growth.\", 'language': 'en'})]"
      ]
     },
     "execution_count": 51,
     "metadata": {},
     "output_type": "execute_result"
    }
   ],
   "source": [
    "loader = WebBaseLoader(\"https://www.investopedia.com/how-nvidia-makes-money-4799532#:~:text=Nvidia%20(NVDA)%20introduced%20graphics%20processing,vehicles%2C%20robotics%2C%20and%20more.\")\n",
    "data = loader.load()\n",
    "data"
   ]
  },
  {
   "cell_type": "markdown",
   "metadata": {},
   "source": [
    "# 2. Convert data to Vector Database"
   ]
  },
  {
   "cell_type": "code",
   "execution_count": 52,
   "metadata": {},
   "outputs": [],
   "source": [
    "from langchain_objectbox.vectorstores import ObjectBox ##vector Database\n",
    "from langchain_openai import OpenAIEmbeddings"
   ]
  },
  {
   "cell_type": "code",
   "execution_count": 53,
   "metadata": {},
   "outputs": [],
   "source": [
    "from langchain_text_splitters import RecursiveCharacterTextSplitter\n",
    "\n",
    "text_splitter = RecursiveCharacterTextSplitter()\n",
    "documents = text_splitter.split_documents(data)"
   ]
  },
  {
   "cell_type": "code",
   "execution_count": 54,
   "metadata": {},
   "outputs": [
    {
     "data": {
      "text/plain": [
       "[Document(page_content=\"How Nvidia Makes Money\\n\\n\\n\\n\\n\\n\\n\\n\\n\\n\\n\\n\\n\\n\\n\\n\\n\\n\\n\\n\\n\\n\\n\\n\\n\\n\\n\\n\\n\\n\\n\\n\\n\\n\\n\\n\\n\\n\\n\\n\\n\\n\\n\\n\\n\\n\\n\\n\\n\\n\\n \\n\\n \\n\\n \\n\\n \\n\\n \\n\\n \\n\\n \\n\\n \\n\\n \\n\\n \\n\\n \\n\\n \\n\\n \\n\\n \\n\\n \\n\\n \\n\\n \\n\\n \\n\\n \\n\\n \\n\\n \\n\\n \\n\\n \\n\\n \\n\\n \\n\\n \\n\\n \\n\\n \\n\\n \\n\\n \\n\\n \\n\\n \\n\\n \\n\\n \\n\\n \\n\\n\\n\\n\\n\\n\\n\\n\\nBy clicking “Accept All Cookies”, you agree to the storing of cookies on your device to enhance site navigation, analyze site usage, and assist in our marketing efforts. Cookies Settings Accept All Cookies\\n\\n \\n\\n\\n\\n\\n\\n\\n\\n\\n\\n\\n\\n\\n\\n\\n\\n \\n\\n\\n\\n\\n Investing\\n\\n\\n\\n Stocks\\n \\n\\n Cryptocurrency\\n \\n\\n Bonds\\n \\n\\n ETFs\\n \\n\\n Options and Derivatives\\n \\n\\n Commodities\\n \\n\\n Trading\\n \\n\\n Automated Investing\\n \\n\\n Brokers\\n \\n\\n Fundamental Analysis\\n \\n\\n Markets\\n \\n\\n View All\\n \\n\\n\\n\\n Simulator\\n\\n\\n\\n Login / Portfolio\\n \\n\\n Trade\\n \\n\\n Research\\n \\n\\n My Games\\n \\n\\n Leaderboard\\n \\n\\n\\n\\n Banking\\n\\n\\n\\n Savings Accounts\\n \\n\\n Certificates of Deposit (CDs)\\n \\n\\n Money Market Accounts\\n \\n\\n Checking Accounts\\n \\n\\n View All\\n \\n\\n\\n\\n Personal Finance\\n\\n\\n\\n Budgeting and Saving\\n \\n\\n Personal Loans\\n \\n\\n Insurance\\n \\n\\n Mortgages\\n \\n\\n Credit and Debt\\n \\n\\n Student Loans\\n \\n\\n Taxes\\n \\n\\n Credit Cards\\n \\n\\n Financial Literacy\\n \\n\\n Retirement\\n \\n\\n View All\\n \\n\\n\\n\\n News\\n\\n\\n\\n Markets\\n \\n\\n Companies\\n \\n\\n Earnings\\n \\n\\n CD Rates\\n \\n\\n Mortgage Rates\\n \\n\\n Economy\\n \\n\\n Government\\n \\n\\n Crypto\\n \\n\\n ETFs\\n \\n\\n Personal Finance\\n \\n\\n View All\\n \\n\\n\\n\\n Reviews\\n\\n\\n\\n Best Online Brokers\\n \\n\\n Best Savings Rates\\n \\n\\n Best CD Rates\\n \\n\\n Best Life Insurance\\n \\n\\n Best Personal Loans\\n \\n\\n Best Mortgage Rates\\n \\n\\n Best Money Market Accounts\\n \\n\\n Best Auto Loan Rates\\n \\n\\n Best Credit Repair Companies\\n \\n\\n Best Credit Cards\\n \\n\\n View All\\n \\n\\n\\n\\n Academy\\n\\n\\n\\n Investing for Beginners\\n \\n\\n Trading for Beginners\\n \\n\\n Become a Day Trader\\n \\n\\n Technical Analysis\\n \\n\\n All Investing Courses\\n \\n\\n All Trading Courses\\n \\n\\n View All\\n \\n\\n\\n\\n\\n\\nTrade\\n\\n\\n \\n\\n\\n\\n\\n\\n\\nSearch\\n\\n\\nSearch\\n\\n\\n\\n\\n\\n\\n\\n\\n\\n\\n\\n \\n\\n\\n\\nPlease fill out this field.\\n\\n\\n\\n\\n\\n\\n\\n\\n\\n\\n \\n\\n\\n\\n\\n\\nSearch\\n\\n\\nSearch\\n\\n\\n\\n\\n\\n\\n \\n\\n\\n\\nPlease fill out this field.\\n\\n\\n\\n\\n\\n\\n\\n\\n\\n\\n\\nInvesting\\n\\n\\n\\n\\n\\n\\n\\n\\n\\n\\nInvesting\\n\\n\\n\\n\\n Stocks\\n \\n\\n Cryptocurrency\\n \\n\\n Bonds\\n \\n\\n ETFs\\n \\n\\n Options and Derivatives\\n \\n\\n Commodities\\n \\n\\n Trading\\n \\n\\n Automated Investing\\n \\n\\n Brokers\\n \\n\\n Fundamental Analysis\\n \\n\\n Markets\\n \\n\\n View All\\n \\n\\n\\n\\n\\n\\nSimulator\\n\\n\\n\\n\\n\\n\\n\\n\\n\\n\\nSimulator\\n\\n\\n\\n\\n Login / Portfolio\\n \\n\\n Trade\\n \\n\\n Research\\n \\n\\n My Games\\n \\n\\n Leaderboard\\n \\n\\n\\n\\n\\n\\nBanking\\n\\n\\n\\n\\n\\n\\n\\n\\n\\n\\nBanking\\n\\n\\n\\n\\n Savings Accounts\\n \\n\\n Certificates of Deposit (CDs)\\n \\n\\n Money Market Accounts\\n \\n\\n Checking Accounts\\n \\n\\n View All\\n \\n\\n\\n\\n\\n\\nPersonal Finance\\n\\n\\n\\n\\n\\n\\n\\n\\n\\n\\nPersonal Finance\\n\\n\\n\\n\\n Budgeting and Saving\\n \\n\\n Personal Loans\\n \\n\\n Insurance\\n \\n\\n Mortgages\\n \\n\\n Credit and Debt\\n \\n\\n Student Loans\\n \\n\\n Taxes\\n \\n\\n Credit Cards\\n \\n\\n Financial Literacy\\n \\n\\n Retirement\\n \\n\\n View All\\n \\n\\n\\n\\n\\n\\nNews\\n\\n\\n\\n\\n\\n\\n\\n\\n\\n\\nNews\\n\\n\\n\\n\\n Markets\\n \\n\\n Companies\\n \\n\\n Earnings\\n \\n\\n CD Rates\\n \\n\\n Mortgage Rates\\n \\n\\n Economy\\n \\n\\n Government\\n \\n\\n Crypto\\n \\n\\n ETFs\\n \\n\\n Personal Finance\\n \\n\\n View All\\n \\n\\n\\n\\n\\n\\nReviews\\n\\n\\n\\n\\n\\n\\n\\n\\n\\n\\nReviews\\n\\n\\n\\n\\n Best Online Brokers\\n \\n\\n Best Savings Rates\\n \\n\\n Best CD Rates\\n \\n\\n Best Life Insurance\\n \\n\\n Best Personal Loans\\n \\n\\n Best Mortgage Rates\\n \\n\\n Best Money Market Accounts\\n \\n\\n Best Auto Loan Rates\\n \\n\\n Best Credit Repair Companies\\n \\n\\n Best Credit Cards\\n \\n\\n View All\\n \\n\\n\\n\\n\\n\\nAcademy\\n\\n\\n\\n\\n\\n\\n\\n\\n\\n\\nAcademy\\n\\n\\n\\n\\n Investing for Beginners\\n \\n\\n Trading for Beginners\\n \\n\\n Become a Day Trader\\n \\n\\n Technical Analysis\\n \\n\\n All Investing Courses\\n \\n\\n All Trading Courses\\n \\n\\n View All\\n \\n\\n\\n\\n\\n\\nEconomy\\n\\n\\n\\n\\n\\n\\n\\n\\n\\n\\nEconomy\\n\\n\\n\\n\\n Government and Policy\\n \\n\\n Monetary Policy\\n \\n\\n Fiscal Policy\\n \\n\\n Economics\\n \\n\\n View All\\n \\n\\n\\n\\n\\n Financial Terms\\n \\n\\n Newsletter\\n \\n\\n About Us\\n \\n\\n\\n\\n\\n\\n\\nFollow Us\\n\\n\\n \\n\\n\\n \\n\\n \\n\\n\\n \\n\\n \\n\\n\\n \\n\\n \\n\\n\\n \\n\\n \\n\\n\\n \\n\\n \\n\\n\\n \\n\\n\\n \\n\\n\\n\\n\\n\\nTable of Contents\\nExpand\\nTable of Contents\\n\\n\\n\\nNvidia's Industry\\nFinancials\\nHistory and Leadership\\nRecent Developments\\nFAQs\\nThe Bottom Line\\nCompany Profiles\\nTech Companies\\nHow Nvidia Makes Money\\nNvidia's Compute and Networking segment supercharges revenue growth\\n\\n\\nBy\\n Nathan Reiff\\n \\n\\n\\n\\n\\n\\n\\n \\nFull Bio \\nNathan Reiff has been writing expert articles and news about financial topics such as investing and trading, cryptocurrency, ETFs, and alternative investments on Investopedia since 2016.\", metadata={'source': 'https://www.investopedia.com/how-nvidia-makes-money-4799532#:~:text=Nvidia%20(NVDA)%20introduced%20graphics%20processing,vehicles%2C%20robotics%2C%20and%20more.', 'title': 'How Nvidia Makes Money', 'description': \"Nvidia's Compute and Networking segment has overtaken its Graphics segment as the top producer of revenue and profits. In particular, AI is fueling enormous growth.\", 'language': 'en'}),\n",
       " Document(page_content=\"Learn about our \\neditorial policies\\n\\n\\n\\nUpdated March 13, 2024\\n\\n\\n\\nReviewed by\\n Thomas J. Catalano\\n \\n\\n\\n\\n\\n\\n\\n \\n\\n\\n\\nReviewed by\\nThomas J. Catalano\\n\\nFull Bio\\n\\n\\n\\n \\n\\n\\n \\n\\n \\nThomas J Catalano is a CFP and Registered Investment Adviser with the state of South Carolina, where he launched his own financial advisory firm in 2018.\\xa0Thomas' experience gives him expertise in a variety of areas including investments, retirement, insurance, and financial planning.\\n\\n\\n\\nLearn about our \\nFinancial Review Board\\n\\n\\n\\n\\n \\n\\n\\n\\n\\n\\n\\n\\n\\n\\n\\n\\n\\n\\n\\n\\n\\n\\n\\n\\n\\n\\n\\n\\n\\n\\nTrending Videos\\n\\n\\n\\nClose this video player\\n\\n Nvidia Corporation is a multinational technology company that introduced and innovated the graphics processing unit (GPU). The source of its greatest amount of revenue is its Compute and Networking business segment, which includes artificial intelligence (AI).\\n\\n\\n Nvidia has continued to deliver leading edge graphics developments through its groundbreaking GPU efforts.\\n\\n\\n It has become a full-stack (from front-end to back-end) computing infrastructure company that is reshaping how complex computing for diverse purposes gets done.\\n\\n\\n Nvidia designs and manufactures GPUs for gaming, cryptocurrency mining, and professional applications, as well as chip systems for use in vehicles, robotics, and other tools. AI has become a major focus.\\n\\n\\nKey Takeaways\\n\\nCompute and Networking, which includes artificial intelligence (AI), is Nvidia's biggest revenue generator.\\nThe graphics business segment is Nvidia's second largest revenue generator.\\nNvidia (NVDA) introduced graphics processing units, known as GPUs, a key component of PC architecture and large-scale applications.\\nIt designs and sells GPUs for gaming, cryptocurrency mining, and professional applications.\\nIt also sells chip systems for use in vehicles, robotics, and more.\\n\\n\\n  Nvidia's Industry  \\n Nvidia is a leading company in the semiconductor industry, within the information technology sector.\\n\\n\\n Its goal is to offer technology solutions for increasingly complex computational challenges in the markets it serves. A major focus for years has been AI. This has intensified as AI development has powered forward and emerged in the public eye.\\n\\n\\n According to its 10-K filing, Nvidia believes that the market for its products faces intense technological change and changing industry standards.\\n\\n\\n It is also an extremely competitive market, where performance, product offerings, and access to customers, partners, and distribution channels are critical factors. Other key aspects it must dominate are software support, the ability to conform to industry standard APIs, manufacturing strengths, processor pricing, and total costs.\\n\\n\\n  Competitors  \\n It has a variety of competitors in different areas of the industry. Some of them are hardware and software suppliers and licensors such as Intel Corp. (INTC), Advanced Micro Devices (AMD), and Huwei.\\n\\n\\n Cloud services companies designing AI computing functionality such as Alibaba Group (BABA), Alphabet Inc. (GOOG), Amazon Inc. (AMZN), and Microsoft (MSFT) are also major competitors.\\n\\n\\n  Nvidia's Financials  \\n As of March 12, 2024, Nvidia's market capitalization was $2.26 trillion.\\n\\n\\n In February 2024, Nvidia announced its financial results for Q4 of the 2024 fiscal year (FY), the three-month period ended Jan. 28, 2024.\\n\\n\\n  Revenue  \\n The company reported record revenue of $22.1 billion, which was up 22% from the previous quarter and 265% year over year (YOY). For the entire fiscal year, revenue was $60.9 billion, up 126% from the previous fiscal year result.\\n\\n\\n  Net Income  \\n It had net income of $12.28 billion, a growth of 33% over the previous quarter and 769% over the previous year's fourth quarter.\\n\\n\\n  Operating Income  \\n At $13.61 billion, Nvidia's operating income, which is a profitability metric for its individual business segments, grew 983% YOY from $1.25 billion.\", metadata={'source': 'https://www.investopedia.com/how-nvidia-makes-money-4799532#:~:text=Nvidia%20(NVDA)%20introduced%20graphics%20processing,vehicles%2C%20robotics%2C%20and%20more.', 'title': 'How Nvidia Makes Money', 'description': \"Nvidia's Compute and Networking segment has overtaken its Graphics segment as the top producer of revenue and profits. In particular, AI is fueling enormous growth.\", 'language': 'en'}),\n",
       " Document(page_content='Operating Income  \\n At $13.61 billion, Nvidia\\'s operating income, which is a profitability metric for its individual business segments, grew 983% YOY from $1.25 billion.\\n\\n\\n  Revenue From Primary Markets  \\n The chip company serves five primary markets—data center, gaming, professional visualization, automotive, original equipment manufacturer (OEM) and other.\\n\\n\\n Its most noteworthy business results were derived from the first four markets:\\n\\n\\n Data center revenue was a record $18.4 billion in the fourth quarter, up 27% from Q3 2024 and 409% YOY. The total in FY 2024 was $47.5 billion, up 217%.Gaming revenue was $2.9 billion in the fourth quarter, no change from the previous quarter and up 56% YOY. The total in FY 2024 was $10.4 billion, up 15% YOY.Professional visualization revenue was $463 million in the fourth quarter, up 11% from Q3 and 105% YOY. For the year, revenue rose to $1.6 billion, an increase of 1% YOY.Automotive revenue was $281 million, an increase of 8% from Q3 and down 4% YOY. For the year, revenue rose to $1.1 billion, an increase of 21%.\\n\\n\\n Company Chief Executive Officer (CEO) Jensen Huang reported that \"Accelerated computing and generative AI have hit the tipping point. Demand is surging worldwide across companies, industries and nations that demand for its AI solutions.\"\\n\\n\\n\\n\\n  Revenue From Business Segments  \\n Nvidia reports business results for two business segments: Compute and Networking and Graphics.\\n\\n\\n Compute and Networking\\n\\n\\n According to Nvidia\\'s Form 10-K, the Compute and Networking segment is made up of:\\n\\n\\n Data Center accelerated computing platforms and end-to-end networking platforms including Quantum for InfiniBand and Spectrum for EthernetNVIDIA DRIVE automated-driving platform and automotive development agreementsJetson robotics and other embedded platformsNVIDIA AI Enterprise and other softwareDGX Cloud software and services\\n\\n\\n The Compute and Networking segment delivered revenue of $47.4 billion in FY 2024, up 215% from FY 2023. The segment accounted for almost 78% of Nvidia\\'s total revenue.\\n\\n\\n Operating income, at $32.01 billion, grew 530% YOY.\\n\\n\\n Graphics\\n\\n\\n Nvidia\\'s graphics segment is comprised of:\\n\\n\\n The GeForce GPUs for gaming and PCs, the GeForce NOW game-streaming service and related infrastructure, and solutions for gaming platformsThe Quadro/NVIDIA RTX GPUs for enterprise graphics designVirtual GPU (vGPU) for cloud-based visual and virtual computingautomotive platforms for infotainment systemsOmniverse Enterprise software for the construction and operation of metaverse and 3D internet apps\\n\\n\\n The Graphics segment delivered revenue of $13.51 billion in FY 2024, up 14% from FY 2023. The segment accounted for slightly over 22% of Nvidia\\'s total revenue.\\n\\n\\n Operating income, at $5.84 billion, grew 28% YOY.\\n\\n\\n  Equity Holdings  \\n Nvidia\\'s Form 13F includes the following equity holdings and associated values, as of Dec. 31, 2023:\\n\\n\\n \\n\\n\\n\\n\\n\\nCompany\\nValue\\n\\n\\n\\n\\nARM HOLDINGS PLC\\n$147,343,114\\n\\n\\nNANO X IMAGING LTD\\n$379,856\\n\\n\\nRECURSION PHARMACEUTICALS INC\\n$75,984,739\\n\\n\\nSOUNDHOUND AI INC\\n$3,669,472\\n\\n\\nTUSIMPLE HLDGS INC\\n$3,041,904\\n\\n\\n\\n\\n\\nHistoric\\nOn Thursday, Feb. 22, 2024, Nvidia\\'s market capitalization jumped by $272 billion, the largest change ever seen in such value in a single day.\\n  History and Leadership  \\n Nvidia Corporation was founded in 1993 by Jensen Huang, Chris Malachowsky, and Curtis Priem. It is headquartered in Santa Clara, California.\\n\\n\\n Huang has led Nvidia as President, Chief Executive, and member of the Board of Directors. Before starting the company with Malachowsky and Priem, Huang worked at LSI Logic and Advanced Micro Devices.\\n\\n\\n Co-founder Malachowsky is a Nvidia senior technology executive who helped spearhead Nvidia\\'s growth from startup to accelerated computing standout. Prior to Nvidia, he worked at HP and Sun Microsystems. He is an expert in integrated-circuit design and methodology.', metadata={'source': 'https://www.investopedia.com/how-nvidia-makes-money-4799532#:~:text=Nvidia%20(NVDA)%20introduced%20graphics%20processing,vehicles%2C%20robotics%2C%20and%20more.', 'title': 'How Nvidia Makes Money', 'description': \"Nvidia's Compute and Networking segment has overtaken its Graphics segment as the top producer of revenue and profits. In particular, AI is fueling enormous growth.\", 'language': 'en'}),\n",
       " Document(page_content='Co-founder Priem was Nvidia\\'s Chief Technology Officer for 10 years. He left Nvidia in the early 2000s.\\n\\n\\n Nvidia has more than 27,000 employees worldwide and more than 7,500 patents in force and pending.\\n\\n\\n  Recent Developments  \\n • In early March 2024, Nvidia and HP Inc. announced their intention to integrate\\xa0NVIDIA CUDA-X™ data processing libraries with HP AI workstation solutions. This will drive generative AI development through data preparation and processing work.\\n\\n\\n • In November of 2023, Nvidia connected the world’s leading AI computing platform with its new NVIDIA HGX™ H200. The platform features the NVIDIA H200 Tensor Core GPU with advanced memory. It is designed to manage enormous amounts of data for generative AI as well as complex and demanding computing workloads.\\n\\n\\n • In August 2023, Nvidia provided a major upgrade for its Omniverse platform. Omniverse is used with 3D tools and applications. The upgrade \"accelerates the creation of virtual worlds and advanced workflows for industrial digitalization.\"\\n\\n\\n • ChatGPT, powered by the NVIDIA DGX™ AI supercomputer, launched in late November 2022. In two months, users numbered 100 million. It instantly became the fastest-growing app in history.\\n\\n\\n What Happened With Nvidia\\'s Intended Purchase of Arm?\\nIn February 2022, Nvidia announced that it was terminating its agreement to purchase U.K.-based semiconductor design firm Arm from SoftBank Group Corp. due to significant regulatory challenges.\\n\\n\\n Is Nvidia Still a Graphics Company?\\nDue to the rise of AI and the enormous success of ChatGPT, powered by Nvidia\\'s AI supercomputer, CEO Jensen Huang, shifted Nvidia\\'s major focus from graphics to AI in late 2023.\\n\\n\\n How Much Does a Share of Nvidia Stock Go For?\\nOn March 13, 2024, Nvidia shares were trading in the neighborhood of $890 per share.\\n\\n\\n  The Bottom Line  \\n Nvidia Corporation is a global technology company that was founded in 1993. It introduced the graphics processing unit (GPU) for accelerated computing tasks such as graphics rendering, gaming, and video editing.\\n\\n\\n In late 2023, its primary focus moved from graphics to artificial intelligence due to the massive success of ChatGPT, which is powered by Nvidia\\'s GPUs, and the resulting demand for its products.\\n\\nDo you have a news tip for Investopedia reporters? Please email us at\\ntips@investopedia.com\\n\\n\\n\\n\\nArticle Sources\\n\\n\\n\\nInvestopedia requires writers to use primary sources to support their work. These include white papers, government data, original reporting, and interviews with industry experts. We also reference original research from other reputable publishers where appropriate. You can learn more about the standards we follow in producing accurate, unbiased content in our\\neditorial policy.\\n \\nNvidia Corporation. \"Form 10-K for the fiscal year ended January 28, 2024,\" Page 39.\\nNvidia Corporation. \"Form 10-K for the fiscal year ended January 28, 2024,\" Page 9.\\nCompaniesmarketcap.com. \"Market capitalization of Nvidia (NVDA).\"\\nNvidia Corp. \"NVIDIA Announces Financial Results for Fourth Quarter and Fiscal 2024.\"\\nNvidia Corporation. \"Form 10-K for the fiscal year ended January 28, 2024,\" Page 5.\\nU.S. Securities and Exchange Commission. \"Form 13F–Nvidia Corp.\"\\nNvidia. \"Newsroom: Founders.\"\\nForbes. \"This Nvidia Cofounder Could Have Been Worth $70 Billion. Instead He Lives Off The Grid.\"\\nNvidia. \"Nvidia in Brief.\"\\nNvidia. \"Newsroom: NVIDIA and HP Supercharge Data Science and Generative AI on Workstations.\"\\nNvidia. \"Newsroom: NVIDIA Supercharges Hopper, the World’s Leading AI Computing Platform.\"\\nNvidia. \"Newsroom: NVIDIA Releases Major Omniverse Upgrade With Generative AI and OpenUSD.\"\\nNvidia. \"Nvidia in Brief,\" Page 2.\\nNvidia. \"Newsroom: NVIDIA and SoftBank Group Announce Termination of NVIDIA’s Acquisition of Arm Limited.\"\\nDigitalTrends. \"Nvidia is ‘no longer a graphics company.\\'\"\\n\\n\\n\\n\\n\\n\\n\\n\\n\\n\\n\\n\\n\\n\\n\\n\\n\\n\\n\\n\\n\\n\\n\\n\\n\\n\\n\\n\\n\\n\\n\\n\\n \\nRelated Articles\\n\\n\\n\\n\\n\\n\\n \\n\\n\\n4 Companies Owned by Nvidia\\n\\n\\n\\n\\n\\n\\n\\n\\n \\n\\n\\nInvesting in Nvidia Stock (NVDA)', metadata={'source': 'https://www.investopedia.com/how-nvidia-makes-money-4799532#:~:text=Nvidia%20(NVDA)%20introduced%20graphics%20processing,vehicles%2C%20robotics%2C%20and%20more.', 'title': 'How Nvidia Makes Money', 'description': \"Nvidia's Compute and Networking segment has overtaken its Graphics segment as the top producer of revenue and profits. In particular, AI is fueling enormous growth.\", 'language': 'en'}),\n",
       " Document(page_content='Related Articles\\n\\n\\n\\n\\n\\n\\n \\n\\n\\n4 Companies Owned by Nvidia\\n\\n\\n\\n\\n\\n\\n\\n\\n \\n\\n\\nInvesting in Nvidia Stock (NVDA)\\n\\n\\n\\n\\n\\n\\n\\n\\n \\n\\n\\nHow AMD Makes Money\\n\\n\\n\\n\\n\\n\\n\\n\\n \\n\\n\\nNvidia Q3 FY2022 Earnings Report Recap\\n\\n\\n\\n\\n\\n\\n\\n\\n \\n\\n\\nWhat You Need To Know Ahead of AMD\\'s Earnings Report \\n\\n\\n\\n\\n\\n\\n\\n\\n \\n\\n\\n6 Takeaways From Nvidia CEO Jensen Huang\\'s GPU Tech Conference Keynote\\n\\n\\n\\n\\n\\n\\n\\n\\n\\n\\n\\n\\n\\n\\n\\nPartner Links\\n\\n\\n\\n\\n\\n\\n\\n\\n\\n\\n\\n\\n\\n\\n\\n\\nRelated Terms\\nWhat Is a Graphics Processing Unit (GPU)? Definition and Examples\\nA Graphics Processing Unit is a chip or electronic circuit capable of rendering graphics for display on an electronic device.\\nmore\\nWhat Is Artificial Intelligence (AI)?\\nArtificial intelligence technology allows computers and machines to simulate human intelligence and problem-solving capabilities.\\nmore\\nQuantum Computing: Definition, How It\\'s Used, and Example\\nA quantum computer, unlike a classical computer, uses quantum bits or qubits. Learn about quantum computers and which companies are building them.\\nmore\\nWhat Is Bitcoin Mining?\\nBreaking down everything you need to know about Bitcoin mining, from blockchain and block rewards to proof of work and mining pools.\\nmore\\nWhat Is Business Intelligence (BI)? Types, Benefits, and Examples\\nBusiness intelligence (BI) refers to the procedural and technical infrastructure that collects, stores, and analyzes data produced by a company.\\nmore\\nFabless Company: What It Is, How It Works, Example\\n\"Fabless company” refers to a company that designs and markets hardware while outsourcing the manufacturing of that hardware to a third-party partner.\\nmore\\n\\n\\n\\n\\n\\n\\n \\n\\n\\n \\n\\n \\n\\n\\n \\n\\n \\n\\n\\n \\n\\n \\n\\n\\n \\n\\n \\n\\n\\n \\n\\n\\n\\n About Us\\nTerms of Service\\nDictionary\\nEditorial Policy\\nAdvertise\\nNews\\nPrivacy Policy\\nContact Us\\nCareers\\nYour Privacy Choices \\n\\n\\n\\n\\n#\\nA\\nB\\nC\\nD\\nE\\nF\\nG\\nH\\nI\\nJ\\nK\\nL\\nM\\nN\\nO\\nP\\nQ\\nR\\nS\\nT\\nU\\nV\\nW\\nX\\nY\\nZ\\n \\n\\n\\n\\n\\n\\nInvestopedia is part of the Dotdash Meredith\\xa0publishing\\xa0family.', metadata={'source': 'https://www.investopedia.com/how-nvidia-makes-money-4799532#:~:text=Nvidia%20(NVDA)%20introduced%20graphics%20processing,vehicles%2C%20robotics%2C%20and%20more.', 'title': 'How Nvidia Makes Money', 'description': \"Nvidia's Compute and Networking segment has overtaken its Graphics segment as the top producer of revenue and profits. In particular, AI is fueling enormous growth.\", 'language': 'en'})]"
      ]
     },
     "execution_count": 54,
     "metadata": {},
     "output_type": "execute_result"
    }
   ],
   "source": [
    "documents"
   ]
  },
  {
   "cell_type": "code",
   "execution_count": null,
   "metadata": {},
   "outputs": [],
   "source": [
    "from langchain_openai import OpenAIEmbeddings\n",
    "vector = ObjectBox.from_documents(documents, OpenAIEmbeddings(), embedding_dimensions=768)\n",
    "vector"
   ]
  },
  {
   "cell_type": "markdown",
   "metadata": {},
   "source": [
    "# 3. Make a RAG pipeline"
   ]
  },
  {
   "cell_type": "code",
   "execution_count": null,
   "metadata": {},
   "outputs": [],
   "source": [
    "from langchain_openai import ChatOpenAI\n",
    "from langchain_core.output_parsers import StrOutputParser\n",
    "from langchain_core.prompts import ChatPromptTemplate\n",
    "from langchain.chains import RetrievalQA\n",
    "from langchain import hub"
   ]
  },
  {
   "cell_type": "code",
   "execution_count": null,
   "metadata": {},
   "outputs": [
    {
     "data": {
      "text/plain": [
       "ChatPromptTemplate(input_variables=['context', 'question'], metadata={'lc_hub_owner': 'rlm', 'lc_hub_repo': 'rag-prompt', 'lc_hub_commit_hash': '50442af133e61576e74536c6556cefe1fac147cad032f4377b60c436e6cdcb6e'}, messages=[HumanMessagePromptTemplate(prompt=PromptTemplate(input_variables=['context', 'question'], template=\"You are an assistant for question-answering tasks. Use the following pieces of retrieved context to answer the question. If you don't know the answer, just say that you don't know. Use three sentences maximum and keep the answer concise.\\nQuestion: {question} \\nContext: {context} \\nAnswer:\"))])"
      ]
     },
     "execution_count": 17,
     "metadata": {},
     "output_type": "execute_result"
    }
   ],
   "source": [
    "llm = ChatOpenAI(model=\"gpt-4o\") ## Calling Gpt-4o\n",
    "prompt = hub.pull(\"rlm/rag-prompt\")\n",
    "prompt"
   ]
  },
  {
   "cell_type": "code",
   "execution_count": null,
   "metadata": {},
   "outputs": [
    {
     "data": {
      "text/plain": [
       "ChatPromptTemplate(input_variables=['context', 'question'], metadata={'lc_hub_owner': 'rlm', 'lc_hub_repo': 'rag-prompt', 'lc_hub_commit_hash': '50442af133e61576e74536c6556cefe1fac147cad032f4377b60c436e6cdcb6e'}, messages=[HumanMessagePromptTemplate(prompt=PromptTemplate(input_variables=['context', 'question'], template=\"You are an assistant for question-answering tasks. Use the following pieces of retrieved context to answer the question. If you don't know the answer, just say that you don't know. Use three sentences maximum and keep the answer concise.\\nQuestion: {question} \\nContext: {context} \\nAnswer:\"))])"
      ]
     },
     "execution_count": 18,
     "metadata": {},
     "output_type": "execute_result"
    }
   ],
   "source": [
    "prompt"
   ]
  },
  {
   "cell_type": "code",
   "execution_count": null,
   "metadata": {},
   "outputs": [],
   "source": [
    "qa_chain = RetrievalQA.from_chain_type(\n",
    "        llm,\n",
    "        retriever=vector.as_retriever(),\n",
    "        chain_type_kwargs={\"prompt\": prompt}\n",
    "    )"
   ]
  },
  {
   "cell_type": "code",
   "execution_count": null,
   "metadata": {},
   "outputs": [
    {
     "data": {
      "text/plain": [
       "{'query': 'What should I do If I have Nvidia stock sell or hold',\n",
       " 'result': \"Considering that Nvidia's earnings are expected to be in focus next week and the stock is currently at record levels, it might be prudent to hold your Nvidia stock until the earnings report is released. This could provide more clarity on the company's performance and future prospects. Always consider consulting with a financial advisor for personalized advice.\"}"
      ]
     },
     "execution_count": 43,
     "metadata": {},
     "output_type": "execute_result"
    }
   ],
   "source": [
    "question = \"What should I do If I have Nvidia stock sell or hold\"\n",
    "result = qa_chain({\"query\": question })\n",
    "result"
   ]
  },
  {
   "cell_type": "code",
   "execution_count": null,
   "metadata": {},
   "outputs": [
    {
     "data": {
      "text/plain": [
       "\"It is suggested to keep an eye on Nvidia's earnings next week, as the stock is currently trying to sustain record levels. This upcoming financial report could provide more clarity on whether to sell or hold.\""
      ]
     },
     "execution_count": 33,
     "metadata": {},
     "output_type": "execute_result"
    }
   ],
   "source": [
    "result[\"result\"]"
   ]
  },
  {
   "cell_type": "code",
   "execution_count": null,
   "metadata": {},
   "outputs": [
    {
     "data": {
      "text/plain": [
       "{'query': 'Who are the competitiors of Nvidia',\n",
       " 'result': \"Nvidia's competitors include Advanced Micro Devices (AMD), Intel, and other companies in the semiconductor and graphics processing industries.\"}"
      ]
     },
     "execution_count": 44,
     "metadata": {},
     "output_type": "execute_result"
    }
   ],
   "source": [
    "question = \"Who are the competitiors of Nvidia\"\n",
    "result = qa_chain({\"query\": question })\n",
    "result"
   ]
  }
 ],
 "metadata": {
  "kernelspec": {
   "display_name": "myenv",
   "language": "python",
   "name": "python3"
  },
  "language_info": {
   "codemirror_mode": {
    "name": "ipython",
    "version": 3
   },
   "file_extension": ".py",
   "mimetype": "text/x-python",
   "name": "python",
   "nbconvert_exporter": "python",
   "pygments_lexer": "ipython3",
   "version": "3.12.3"
  }
 },
 "nbformat": 4,
 "nbformat_minor": 2
}
